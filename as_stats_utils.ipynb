{
  "nbformat": 4,
  "nbformat_minor": 0,
  "metadata": {
    "colab": {
      "name": "as_stats_utils.ipynb",
      "provenance": [],
      "authorship_tag": "ABX9TyNMrSb77Q4KMhUATOZtAmDt",
      "include_colab_link": true
    },
    "kernelspec": {
      "name": "python3",
      "display_name": "Python 3"
    },
    "language_info": {
      "name": "python"
    }
  },
  "cells": [
    {
      "cell_type": "markdown",
      "metadata": {
        "id": "view-in-github",
        "colab_type": "text"
      },
      "source": [
        "<a href=\"https://colab.research.google.com/github/stewaala/GPXUtils/blob/master/as_stats_utils.ipynb\" target=\"_parent\"><img src=\"https://colab.research.google.com/assets/colab-badge.svg\" alt=\"Open In Colab\"/></a>"
      ]
    },
    {
      "cell_type": "code",
      "metadata": {
        "id": "AVXHdrUwV27z"
      },
      "source": [
        "from scipy.stats import norm"
      ],
      "execution_count": 18,
      "outputs": []
    },
    {
      "cell_type": "code",
      "metadata": {
        "colab": {
          "base_uri": "https://localhost:8080/"
        },
        "id": "Q__c17K3WpeM",
        "outputId": "56f9af05-c080-48ca-e3a1-5e5c3888453a"
      },
      "source": [
        "# Gaussian quantiles\n",
        "alpha = 0.025\n",
        "q_alpha = norm.ppf([1-alpha])[0]\n",
        "print(\"alpha = {0:.3f}, q_alpha = {1:.3f}\".format(alpha, q_alpha))  "
      ],
      "execution_count": 19,
      "outputs": [
        {
          "output_type": "stream",
          "text": [
            "alpha = 0.025, q_alpha = 1.960\n"
          ],
          "name": "stdout"
        }
      ]
    },
    {
      "cell_type": "code",
      "metadata": {
        "colab": {
          "base_uri": "https://localhost:8080/"
        },
        "id": "ggKmtmf9WtNO",
        "outputId": "91743256-b91b-4c66-d4f0-d56cf730279e"
      },
      "source": [
        "# Gaussian CDF\n",
        "q_alpha = 1.645\n",
        "alpha = 1-norm.cdf([q_alpha])[0]\n",
        "print(\"q_alpha = {1:.3f}, alpha = {0:.3f}\".format(alpha, q_alpha))  "
      ],
      "execution_count": 20,
      "outputs": [
        {
          "output_type": "stream",
          "text": [
            "q_alpha = 1.645, alpha = 0.050\n"
          ],
          "name": "stdout"
        }
      ]
    }
  ]
}